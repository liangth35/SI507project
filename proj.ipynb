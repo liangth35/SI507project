{
 "cells": [
  {
   "cell_type": "code",
   "execution_count": 1,
   "metadata": {},
   "outputs": [],
   "source": [
    "# import requests\n",
    "# from bs4 import BeautifulSoup\n",
    "# import re\n",
    "# import pandas as pd\n",
    "\n",
    "# headers = {\n",
    "#     # 'Accept': '',\n",
    "#     # 'Accept-Encoding': '',\n",
    "#     # 'Accept-Language': '',\n",
    "#     # 'Cache-Control': '',\n",
    "#     # 'Connection': '',\n",
    "#     # 'Cookie':'',\n",
    "#     # 'Host': '',\n",
    "#     # 'Sec-Fetch-Mode': '',\n",
    "#     # 'Sec-Fetch-Site': '',\n",
    "#     # 'Sec-Fetch-User': '',\n",
    "#     # 'Upgrade-Insecure-Requests': '',\n",
    "#     # 'User-Agent': ''\n",
    "#     'Accept': 'text/html,application/xhtml+xml,application/xml;q=0.9,*/*;q=0.8',\n",
    "#     'Accept-Encoding': 'gzip, deflate, br',\n",
    "#     'Host': 'store.steampowered.com',\n",
    "#     'User-Agent': 'Mozilla/5.0 (Macintosh; Intel Mac OS X 10_15_7) AppleWebKit/605.1.15 (KHTML, like Gecko) Version/15.6 Safari/605.1.15',\n",
    "#     'Accept-Language': 'en-US,en;q=0.9',\n",
    "#     'Referer': 'https://store.steampowered.com/search/?term=of',\n",
    "#     'Connection': 'keep-alive'\n",
    "# }\n",
    "# #替换你自己的headers\n",
    "# n = 5\n",
    "# #n代表爬取到多少页\n",
    "# path = '1.xlsx'\n",
    "# #修改你的保存位置\n",
    "\n",
    "# def getgamelist(n):\n",
    "#     linklist=[]\n",
    "#     IDlist = []\n",
    "#     for pagenum in range(n):\n",
    "#         r = requests.get('https://store.steampowered.com/search/?ignore_preferences=1&category1=998&os=win&filter=globaltopsellers&page=%d'%pagenum,headers=headers)\n",
    "#         soup = BeautifulSoup(r.text)\n",
    "#         soups= soup.find_all(href=re.compile(r\"https://store.steampowered.com/app/\"),class_=\"search_result_row ds_collapse_flag\")\n",
    "#         for i in soups:\n",
    "#             i = i.attrs\n",
    "#             i = i['href']\n",
    "#             link = re.search('https://store.steampowered.com/app/(\\d*?)/',i).group()\n",
    "#             ID = re.search('https://store.steampowered.com/app/(\\d*?)/(.*?)/', i).group(1)\n",
    "#             linklist.append(link)\n",
    "#             IDlist.append(ID)\n",
    "#         print('已完成'+str(pagenum+1)+'页,目前共'+str(len(linklist)))\n",
    "#     return linklist,IDlist\n",
    "\n",
    "# def getdf(n):#转df\n",
    "#     linklist,IDlist = getgamelist(n)\n",
    "#     df = pd.DataFrame(list(zip(linklist,IDlist)),\n",
    "#                columns =['Link', 'ID'])\n",
    "#     return df\n",
    "# if __name__ == \"__main__\":\n",
    "#     df = getdf(n)#n代表爬取到多少页\n",
    "#     df.to_csv(path)#储存"
   ]
  },
  {
   "cell_type": "markdown",
   "metadata": {},
   "source": [
    "# Get game list"
   ]
  },
  {
   "cell_type": "code",
   "execution_count": 22,
   "metadata": {},
   "outputs": [],
   "source": [
    "import requests\n",
    "from bs4 import BeautifulSoup\n",
    "import re\n",
    "import pandas as pd\n",
    "import os.path\n",
    "import json\n",
    "import datetime\n",
    "n=404\n",
    "def getList(n):\n",
    "    linklist=[]\n",
    "    IDlist=[]\n",
    "    for page in range(n):\n",
    "        soup = BeautifulSoup(requests.get('https://store.steampowered.com/search/?ignore_preferences=1&category1=998&os=win&filter=globaltopsellers&page=%d'%page).text)\n",
    "        soups= soup.find_all(href=re.compile(r\"https://store.steampowered.com/app/\"))\n",
    "        for i in soups:\n",
    "            i = i.attrs['href']\n",
    "            res=re.search('https://store.steampowered.com/app/(\\d+)/',i)\n",
    "            linklist.append(res.group(0))\n",
    "            IDlist.append(res.group(1))\n",
    "    return linklist,IDlist\n",
    "if os.path.isfile('gamelist.csv'): #cache gamelist\n",
    "    df = pd.read_csv('gamelist.csv')\n",
    "else:\n",
    "    linklist,IDlist=getList(n)\n",
    "    df = pd.DataFrame(list(zip(linklist,IDlist)), columns =['Link', 'ID'])\n",
    "    df.to_csv('gamelist.csv')"
   ]
  },
  {
   "cell_type": "markdown",
   "metadata": {},
   "source": [
    "# Get game data"
   ]
  },
  {
   "cell_type": "code",
   "execution_count": 27,
   "metadata": {},
   "outputs": [
    {
     "name": "stdout",
     "output_type": "stream",
     "text": [
      "0\n",
      "20\n",
      "40\n",
      "60\n",
      "80\n",
      "100\n",
      "120\n",
      "140\n",
      "160\n",
      "180\n",
      "200\n",
      "220\n",
      "240\n",
      "260\n",
      "280\n",
      "300\n",
      "320\n",
      "340\n",
      "360\n",
      "380\n",
      "400\n",
      "420\n",
      "440\n",
      "460\n",
      "480\n",
      "500\n",
      "520\n",
      "540\n",
      "560\n",
      "580\n",
      "600\n",
      "620\n",
      "640\n",
      "660\n",
      "680\n",
      "700\n",
      "720\n",
      "740\n",
      "760\n",
      "780\n",
      "800\n",
      "820\n",
      "840\n",
      "860\n",
      "880\n",
      "900\n",
      "920\n",
      "940\n",
      "960\n",
      "980\n",
      "1000\n",
      "1020\n",
      "1040\n",
      "1060\n",
      "1080\n",
      "1100\n",
      "1120\n",
      "1140\n",
      "1160\n",
      "1180\n"
     ]
    }
   ],
   "source": [
    "def getPrice(soup):\n",
    "    originalPrices = soup.select(\".game_area_purchase_game .game_purchase_action .game_purchase_price\")\n",
    "    if len(originalPrices)>0:\n",
    "        for i in range(len(originalPrices)):\n",
    "            if re.search('\\$',originalPrices[i].string):\n",
    "                originalPrice = float(re.search('\\$([\\d.]+)',originalPrices[i].string).group(1))\n",
    "                return originalPrice, originalPrice\n",
    "            elif re.search('Free',originalPrices[i].string, re.IGNORECASE):\n",
    "                return 0.,0.\n",
    "    originalPrices = soup.select(\".game_area_purchase_game .game_purchase_action .discount_original_price\")\n",
    "    discountPrices = soup.select(\".game_area_purchase_game .game_purchase_action .discount_final_price\")\n",
    "    for i in range(len(originalPrices)):\n",
    "        if re.search('\\$',originalPrices[i].string):\n",
    "            originalPrice = float(re.search('\\$([\\d.]+)',originalPrices[i].string).group(1))\n",
    "            discountPrice = float(re.search('\\$([\\d.]+)',discountPrices[i].string).group(1))\n",
    "            return originalPrice, discountPrice\n",
    "        elif re.search('Free',originalPrices[i].string, re.IGNORECASE):\n",
    "            return 0.,0.\n",
    "\n",
    "def getReview(soup):\n",
    "    try:\n",
    "        review = str.strip(str(soup.find_all(class_=\"nonresponsive_hidden responsive_reviewdesc\")[-1].contents[0]))\n",
    "        rating = re.search('(\\d+)\\% of the ([\\d,]+) user', review).group(1)\n",
    "        rating = int(rating)\n",
    "        reviewNum = re.search('(\\d+)\\% of the ([\\d,]+) user', review).group(2)\n",
    "        reviewNum = int(reviewNum.replace(',',''))\n",
    "        return rating, reviewNum\n",
    "    except:\n",
    "        return None, 0\n",
    "\n",
    "if not os.path.isfile('gameData.json'):\n",
    "    gameFile = open('gameData.json','w')\n",
    "    gameData = {}\n",
    "    gameFile.close()\n",
    "else:\n",
    "    gameFile = open('gameData.json','r')\n",
    "    try:\n",
    "        gameData = json.load(gameFile)\n",
    "    except:\n",
    "        print('empty file')\n",
    "        gameData = {}\n",
    "    gameFile.close()\n",
    "for p in range(1200):\n",
    "    if p%20==0:\n",
    "        print(p)\n",
    "    if str(df['ID'][p]) not in gameData.keys():\n",
    "        soup = BeautifulSoup(requests.get(df['Link'][p]).text)\n",
    "        name = str(soup.find(class_=\"apphub_AppName\").string)\n",
    "        try:\n",
    "            date = str(soup.find(class_=\"date\").string)\n",
    "        except:\n",
    "            date = None\n",
    "        try:\n",
    "            originalPrice, discountPrice = getPrice(soup)\n",
    "        except:\n",
    "            originalPrice, discountPrice = 0.,0.\n",
    "        rating, reviewNum = getReview(soup)\n",
    "        description = str.strip(str(soup.find(class_=\"game_description_snippet\").string))\n",
    "        gameData[str(df['ID'][p])] = [name,date,originalPrice,discountPrice,rating,reviewNum,description]\n",
    "gameFile = open('gameData.json','w')\n",
    "gameFile.write(json.dumps(gameData))\n",
    "gameFile.close()"
   ]
  },
  {
   "cell_type": "code",
   "execution_count": 19,
   "metadata": {},
   "outputs": [
    {
     "name": "stdout",
     "output_type": "stream",
     "text": [
      "{'1938090': ['Call of Duty®: Modern Warfare® II', 'Oct 27, 2022', 69.99, 69.99, 62, 119361, 'Call of Duty®: Modern Warfare® II drops players into an unprecedented global conflict that features the return of the iconic Operators of Task Force 141.'], '1811260': ['EA SPORTS™ FIFA 23', 'Sep 29, 2022', 69.99, 41.99, 47, 25644, 'Experience the excitement of the biggest tournament in football with EA SPORTS™ FIFA 23 and the men’s FIFA World Cup™ update, available on November 9 at no additional cost!'], '570': ['Dota 2', 'Jul 9, 2013', 0.0, 0.0, 82, 1878389, \"Every day, millions of players worldwide enter battle as one of over a hundred Dota heroes. And no matter if it's their 10th hour of play or 1,000th, there's always something new to discover. With regular updates that ensure a constant evolution of gameplay, features, and heroes, Dota 2 has taken on a life of its own.\"], '1174180': ['Red Dead Redemption 2', 'Dec 5, 2019', 59.99, 19.79, 89, 286676, 'Winner of over 175 Game of the Year Awards and recipient of over 250 perfect scores, RDR2 is the epic tale of outlaw Arthur Morgan and the infamous Van der Linde gang, on the run across America at the dawn of the modern age. Also includes access to the shared living world of Red Dead Online.'], '730': ['Counter-Strike: Global Offensive', 'Aug 21, 2012', 0.0, 0.0, 88, 6765616, 'Counter-Strike: Global Offensive (CS: GO) expands upon the team-based action gameplay that it pioneered when it was launched 19 years ago. CS: GO features new maps, characters, weapons, and game modes, and delivers updated versions of the classic CS content (de_dust2, etc.).']}\n"
     ]
    }
   ],
   "source": [
    "print(gameData)"
   ]
  },
  {
   "cell_type": "code",
   "execution_count": 5,
   "metadata": {},
   "outputs": [
    {
     "data": {
      "text/plain": [
       "Timestamp('2022-10-27 00:00:00')"
      ]
     },
     "execution_count": 5,
     "metadata": {},
     "output_type": "execute_result"
    }
   ],
   "source": [
    "x = pd.to_datetime('Oct 27, 2022')\n",
    "x"
   ]
  }
 ],
 "metadata": {
  "kernelspec": {
   "display_name": "Python 3.8.13 ('py38')",
   "language": "python",
   "name": "python3"
  },
  "language_info": {
   "codemirror_mode": {
    "name": "ipython",
    "version": 3
   },
   "file_extension": ".py",
   "mimetype": "text/x-python",
   "name": "python",
   "nbconvert_exporter": "python",
   "pygments_lexer": "ipython3",
   "version": "3.8.13"
  },
  "orig_nbformat": 4,
  "vscode": {
   "interpreter": {
    "hash": "ec73edf524274c519680832271d6059fda2d15ce575ac87c1bc205d8c723cc3f"
   }
  }
 },
 "nbformat": 4,
 "nbformat_minor": 2
}
