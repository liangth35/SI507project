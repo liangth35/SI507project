{
 "cells": [
  {
   "cell_type": "code",
   "execution_count": 1,
   "metadata": {},
   "outputs": [],
   "source": [
    "# import requests\n",
    "# from bs4 import BeautifulSoup\n",
    "# import re\n",
    "# import pandas as pd\n",
    "\n",
    "# headers = {\n",
    "#     # 'Accept': '',\n",
    "#     # 'Accept-Encoding': '',\n",
    "#     # 'Accept-Language': '',\n",
    "#     # 'Cache-Control': '',\n",
    "#     # 'Connection': '',\n",
    "#     # 'Cookie':'',\n",
    "#     # 'Host': '',\n",
    "#     # 'Sec-Fetch-Mode': '',\n",
    "#     # 'Sec-Fetch-Site': '',\n",
    "#     # 'Sec-Fetch-User': '',\n",
    "#     # 'Upgrade-Insecure-Requests': '',\n",
    "#     # 'User-Agent': ''\n",
    "#     'Accept': 'text/html,application/xhtml+xml,application/xml;q=0.9,*/*;q=0.8',\n",
    "#     'Accept-Encoding': 'gzip, deflate, br',\n",
    "#     'Host': 'store.steampowered.com',\n",
    "#     'User-Agent': 'Mozilla/5.0 (Macintosh; Intel Mac OS X 10_15_7) AppleWebKit/605.1.15 (KHTML, like Gecko) Version/15.6 Safari/605.1.15',\n",
    "#     'Accept-Language': 'en-US,en;q=0.9',\n",
    "#     'Referer': 'https://store.steampowered.com/search/?term=of',\n",
    "#     'Connection': 'keep-alive'\n",
    "# }\n",
    "# #替换你自己的headers\n",
    "# n = 5\n",
    "# #n代表爬取到多少页\n",
    "# path = '1.xlsx'\n",
    "# #修改你的保存位置\n",
    "\n",
    "# def getgamelist(n):\n",
    "#     linklist=[]\n",
    "#     IDlist = []\n",
    "#     for pagenum in range(n):\n",
    "#         r = requests.get('https://store.steampowered.com/search/?ignore_preferences=1&category1=998&os=win&filter=globaltopsellers&page=%d'%pagenum,headers=headers)\n",
    "#         soup = BeautifulSoup(r.text)\n",
    "#         soups= soup.find_all(href=re.compile(r\"https://store.steampowered.com/app/\"),class_=\"search_result_row ds_collapse_flag\")\n",
    "#         for i in soups:\n",
    "#             i = i.attrs\n",
    "#             i = i['href']\n",
    "#             link = re.search('https://store.steampowered.com/app/(\\d*?)/',i).group()\n",
    "#             ID = re.search('https://store.steampowered.com/app/(\\d*?)/(.*?)/', i).group(1)\n",
    "#             linklist.append(link)\n",
    "#             IDlist.append(ID)\n",
    "#         print('已完成'+str(pagenum+1)+'页,目前共'+str(len(linklist)))\n",
    "#     return linklist,IDlist\n",
    "\n",
    "# def getdf(n):#转df\n",
    "#     linklist,IDlist = getgamelist(n)\n",
    "#     df = pd.DataFrame(list(zip(linklist,IDlist)),\n",
    "#                columns =['Link', 'ID'])\n",
    "#     return df\n",
    "# if __name__ == \"__main__\":\n",
    "#     df = getdf(n)#n代表爬取到多少页\n",
    "#     df.to_csv(path)#储存"
   ]
  },
  {
   "cell_type": "markdown",
   "metadata": {},
   "source": [
    "# Get game list"
   ]
  },
  {
   "cell_type": "code",
   "execution_count": 39,
   "metadata": {},
   "outputs": [],
   "source": [
    "import requests\n",
    "from bs4 import BeautifulSoup\n",
    "import re\n",
    "import pandas as pd\n",
    "import os.path\n",
    "import json\n",
    "import datetime\n",
    "n=10\n",
    "def getList(n):\n",
    "    linklist=[]\n",
    "    IDlist=[]\n",
    "    for page in range(n):\n",
    "        soup = BeautifulSoup(requests.get('https://store.steampowered.com/search/?ignore_preferences=1&category1=998&os=win&filter=globaltopsellers&page=%d'%page).text)\n",
    "        soups= soup.find_all(href=re.compile(r\"https://store.steampowered.com/app/\"))\n",
    "        for i in soups:\n",
    "            i = i.attrs['href']\n",
    "            res=re.search('https://store.steampowered.com/app/(\\d+)/',i)\n",
    "            linklist.append(res.group(0))\n",
    "            IDlist.append(res.group(1))\n",
    "    return linklist,IDlist\n",
    "if os.path.isfile('gamelist.csv'): #cache gamelist\n",
    "    df = pd.read_csv('gamelist.csv')\n",
    "else:\n",
    "    linklist,IDlist=getList(n)\n",
    "    df = pd.DataFrame(list(zip(linklist,IDlist)), columns =['Link', 'ID'])\n",
    "    df.to_csv('gamelist.csv')"
   ]
  },
  {
   "cell_type": "markdown",
   "metadata": {},
   "source": [
    "# Get game data"
   ]
  },
  {
   "cell_type": "code",
   "execution_count": 47,
   "metadata": {},
   "outputs": [
    {
     "name": "stdout",
     "output_type": "stream",
     "text": [
      "empty file\n"
     ]
    }
   ],
   "source": [
    "def getPrice(soup):\n",
    "    originalPrices = soup.select(\".game_area_purchase_game .game_purchase_action .game_purchase_price\")\n",
    "    if len(originalPrices)>0:\n",
    "        for i in range(len(originalPrices)):\n",
    "            if re.search('\\$',originalPrices[i].string):\n",
    "                originalPrice = float(re.search('\\$([\\d.]+)',originalPrices[i].string).group(1))\n",
    "                return originalPrice, originalPrice\n",
    "            elif re.search('Free',originalPrices[i].string, re.IGNORECASE):\n",
    "                return 0.,0.\n",
    "    originalPrices = soup.select(\".game_area_purchase_game .game_purchase_action .discount_original_price\")\n",
    "    discountPrices = soup.select(\".game_area_purchase_game .game_purchase_action .discount_final_price\")\n",
    "    for i in range(len(originalPrices)):\n",
    "        if re.search('\\$',originalPrices[i].string):\n",
    "            originalPrice = float(re.search('\\$([\\d.]+)',originalPrices[i].string).group(1))\n",
    "            discountPrice = float(re.search('\\$([\\d.]+)',discountPrices[i].string).group(1))\n",
    "            return originalPrice, discountPrice\n",
    "        elif re.search('Free',originalPrices[i].string, re.IGNORECASE):\n",
    "            return 0.,0.\n",
    "\n",
    "def getReview(soup):\n",
    "    try:\n",
    "        return str.strip(str(soup.find_all(class_=\"nonresponsive_hidden responsive_reviewdesc\")[-1].contents[0]))\n",
    "    except:\n",
    "        return None\n",
    "\n",
    "if not os.path.isfile('gameData.json'):\n",
    "    gameFile = open('gameData.json','w')\n",
    "    gameData = {}\n",
    "    gameFile.close()\n",
    "else:\n",
    "    gameFile = open('gameData.json','r')\n",
    "    try:\n",
    "        gameData = json.load(gameFile)\n",
    "    except:\n",
    "        print('empty file')\n",
    "        gameData = {}\n",
    "    gameFile.close()\n",
    "for p in range(5):\n",
    "    if str(df['ID'][p]) not in gameData.keys():\n",
    "        soup = BeautifulSoup(requests.get(df['Link'][p]).text)\n",
    "        name = str(soup.find(class_=\"apphub_AppName\").string)\n",
    "        date = str(soup.find(class_=\"date\").string)\n",
    "        originalPrice, discountPrice = getPrice(soup)\n",
    "        review = getReview(soup)\n",
    "        gameData[str(df['ID'][p])] = [name,date,originalPrice,discountPrice,review]\n",
    "gameFile = open('gameData.json','w')\n",
    "gameFile.write(json.dumps(gameData))\n",
    "gameFile.close()"
   ]
  },
  {
   "cell_type": "code",
   "execution_count": 48,
   "metadata": {},
   "outputs": [
    {
     "name": "stdout",
     "output_type": "stream",
     "text": [
      "{'1938090': ['Call of Duty®: Modern Warfare® II', 'Oct 27, 2022', 69.99, 69.99, '- 62% of the 119,193 user reviews for this game are positive.'], '1811260': ['EA SPORTS™ FIFA 23', 'Sep 29, 2022', 69.99, 41.99, '- 46% of the 25,589 user reviews for this game are positive.'], '570': ['Dota 2', 'Jul 9, 2013', 0.0, 0.0, '- 82% of the 1,878,274 user reviews for this game are positive.'], '1174180': ['Red Dead Redemption 2', 'Dec 5, 2019', 59.99, 19.79, '- 89% of the 286,594 user reviews for this game are positive.'], '730': ['Counter-Strike: Global Offensive', 'Aug 21, 2012', 0.0, 0.0, '- 88% of the 6,765,501 user reviews for this game are positive.']}\n"
     ]
    }
   ],
   "source": [
    "print(gameData)"
   ]
  },
  {
   "cell_type": "code",
   "execution_count": 43,
   "metadata": {},
   "outputs": [
    {
     "data": {
      "text/plain": [
       "Timestamp('2022-10-27 00:00:00')"
      ]
     },
     "execution_count": 43,
     "metadata": {},
     "output_type": "execute_result"
    }
   ],
   "source": [
    "x = pd.to_datetime('Oct 27, 2022')\n",
    "x"
   ]
  }
 ],
 "metadata": {
  "kernelspec": {
   "display_name": "Python 3.8.13 ('py38')",
   "language": "python",
   "name": "python3"
  },
  "language_info": {
   "codemirror_mode": {
    "name": "ipython",
    "version": 3
   },
   "file_extension": ".py",
   "mimetype": "text/x-python",
   "name": "python",
   "nbconvert_exporter": "python",
   "pygments_lexer": "ipython3",
   "version": "3.8.13"
  },
  "orig_nbformat": 4,
  "vscode": {
   "interpreter": {
    "hash": "ec73edf524274c519680832271d6059fda2d15ce575ac87c1bc205d8c723cc3f"
   }
  }
 },
 "nbformat": 4,
 "nbformat_minor": 2
}
