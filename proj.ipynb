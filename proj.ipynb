{
 "cells": [
  {
   "cell_type": "markdown",
   "metadata": {},
   "source": [
    "# Get game list"
   ]
  },
  {
   "cell_type": "code",
   "execution_count": 36,
   "metadata": {},
   "outputs": [],
   "source": [
    "import requests\n",
    "from bs4 import BeautifulSoup\n",
    "import re\n",
    "import pandas as pd\n",
    "import os.path\n",
    "import json\n",
    "import datetime\n",
    "n=404\n",
    "def getList(n):\n",
    "    linklist=[]\n",
    "    IDlist=[]\n",
    "    for page in range(n):\n",
    "        soup = BeautifulSoup(requests.get('https://store.steampowered.com/search/?ignore_preferences=1&category1=998&os=win&filter=globaltopsellers&page=%d'%page).text)\n",
    "        soups= soup.find_all(href=re.compile(r\"https://store.steampowered.com/app/\"))\n",
    "        for i in soups:\n",
    "            i = i.attrs['href']\n",
    "            res=re.search('https://store.steampowered.com/app/(\\d+)/',i)\n",
    "            linklist.append(res.group(0))\n",
    "            IDlist.append(res.group(1))\n",
    "    return linklist,IDlist\n",
    "if os.path.isfile('gamelist.csv'): #cache gamelist\n",
    "    df = pd.read_csv('gamelist.csv')\n",
    "else:\n",
    "    linklist,IDlist=getList(n)\n",
    "    df = pd.DataFrame(list(zip(linklist,IDlist)), columns =['Link', 'ID'])\n",
    "    df.to_csv('gamelist.csv')"
   ]
  },
  {
   "cell_type": "markdown",
   "metadata": {},
   "source": [
    "# Get game data"
   ]
  },
  {
   "cell_type": "code",
   "execution_count": 35,
   "metadata": {},
   "outputs": [],
   "source": [
    "def getPrice(soup):\n",
    "    originalPrices = soup.select(\".game_area_purchase_game .game_purchase_action .game_purchase_price\")\n",
    "    if len(originalPrices)>0:\n",
    "        for i in range(len(originalPrices)):\n",
    "            if re.search('\\$',originalPrices[i].string):\n",
    "                originalPrice = float(re.search('\\$([\\d.]+)',originalPrices[i].string).group(1))\n",
    "                return originalPrice, originalPrice\n",
    "            elif re.search('Free',originalPrices[i].string, re.IGNORECASE):\n",
    "                return 0.,0.\n",
    "    originalPrices = soup.select(\".game_area_purchase_game .game_purchase_action .discount_original_price\")\n",
    "    discountPrices = soup.select(\".game_area_purchase_game .game_purchase_action .discount_final_price\")\n",
    "    for i in range(len(originalPrices)):\n",
    "        if re.search('\\$',originalPrices[i].string):\n",
    "            originalPrice = float(re.search('\\$([\\d.]+)',originalPrices[i].string).group(1))\n",
    "            discountPrice = float(re.search('\\$([\\d.]+)',discountPrices[i].string).group(1))\n",
    "            return originalPrice, discountPrice\n",
    "        elif re.search('Free',originalPrices[i].string, re.IGNORECASE):\n",
    "            return 0.,0.\n",
    "\n",
    "def getReview(soup):\n",
    "    try:\n",
    "        review = str.strip(str(soup.find_all(class_=\"nonresponsive_hidden responsive_reviewdesc\")[-1].contents[0]))\n",
    "        rating = re.search('(\\d+)\\% of the ([\\d,]+) user', review).group(1)\n",
    "        rating = int(rating)\n",
    "        reviewNum = re.search('(\\d+)\\% of the ([\\d,]+) user', review).group(2)\n",
    "        reviewNum = int(reviewNum.replace(',',''))\n",
    "        return rating, reviewNum\n",
    "    except:\n",
    "        return None, 0\n",
    "\n",
    "if not os.path.isfile('gameData.json'):\n",
    "    gameFile = open('gameData.json','w')\n",
    "    gameData = {}\n",
    "    gameFile.close()\n",
    "else:\n",
    "    gameFile = open('gameData.json','r')\n",
    "    try:\n",
    "        gameData = json.load(gameFile)\n",
    "    except:\n",
    "        print('empty file')\n",
    "        gameData = {}\n",
    "    gameFile.close()\n",
    "for p in range(len(df)):\n",
    "    # if p%100==0:\n",
    "    #     print(p)\n",
    "    if str(df['ID'][p]) not in gameData.keys():\n",
    "        soup = BeautifulSoup(requests.get(df['Link'][p]).text)\n",
    "        name = str(soup.find(class_=\"apphub_AppName\").string)\n",
    "        try:\n",
    "            date = str(soup.find(class_=\"date\").string)\n",
    "        except:\n",
    "            date = None\n",
    "        try:\n",
    "            originalPrice, discountPrice = getPrice(soup)\n",
    "        except:\n",
    "            originalPrice, discountPrice = 0.,0.\n",
    "        rating, reviewNum = getReview(soup)\n",
    "        description = str.strip(str(soup.find(class_=\"game_description_snippet\").string))\n",
    "        gameData[str(df['ID'][p])] = [name,date,originalPrice,discountPrice,rating,reviewNum,description]\n",
    "gameFile = open('gameData.json','w')\n",
    "gameFile.write(json.dumps(gameData))\n",
    "gameFile.close()"
   ]
  },
  {
   "cell_type": "markdown",
   "metadata": {},
   "source": [
    "# Save data into tree"
   ]
  },
  {
   "cell_type": "code",
   "execution_count": null,
   "metadata": {},
   "outputs": [],
   "source": []
  }
 ],
 "metadata": {
  "kernelspec": {
   "display_name": "Python 3.8.13 ('py38')",
   "language": "python",
   "name": "python3"
  },
  "language_info": {
   "codemirror_mode": {
    "name": "ipython",
    "version": 3
   },
   "file_extension": ".py",
   "mimetype": "text/x-python",
   "name": "python",
   "nbconvert_exporter": "python",
   "pygments_lexer": "ipython3",
   "version": "3.8.13"
  },
  "orig_nbformat": 4,
  "vscode": {
   "interpreter": {
    "hash": "ec73edf524274c519680832271d6059fda2d15ce575ac87c1bc205d8c723cc3f"
   }
  }
 },
 "nbformat": 4,
 "nbformat_minor": 2
}
